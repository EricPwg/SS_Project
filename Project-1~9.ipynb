{
 "cells": [
  {
   "cell_type": "code",
   "execution_count": 6,
   "metadata": {},
   "outputs": [],
   "source": [
    "import matplotlib.pyplot as plt\n",
    "import numpy as np\n",
    "import pandas as pd\n",
    "import glob\n",
    "import keras\n",
    "from keras.models import Sequential,load_model\n",
    "from keras.layers import Conv2D, Dense, Activation, Dropout, BatchNormalization,Flatten,MaxPooling2D\n",
    "from keras.optimizers import RMSprop,Nadam\n",
    "from keras.utils import to_categorical\n",
    "from keras import regularizers\n",
    "from keras.callbacks import ModelCheckpoint\n",
    "from keras import backend as K"
   ]
  },
  {
   "cell_type": "markdown",
   "metadata": {},
   "source": [
    "# Prepare data for training"
   ]
  },
  {
   "cell_type": "markdown",
   "metadata": {},
   "source": [
    "## Read the csv file for training"
   ]
  },
  {
   "cell_type": "code",
   "execution_count": 7,
   "metadata": {},
   "outputs": [
    {
     "name": "stdout",
     "output_type": "stream",
     "text": [
      "(50, 509, 6, 1)\n",
      "(50, 509, 6, 1)\n",
      "(50, 509, 6, 1)\n",
      "(50, 509, 6, 1)\n",
      "(50, 509, 6, 1)\n",
      "(50, 509, 6, 1)\n",
      "(50, 509, 6, 1)\n",
      "(50, 509, 6, 1)\n",
      "(50, 509, 6, 1)\n",
      "(50, 509, 6, 1)\n"
     ]
    }
   ],
   "source": [
    "#Read data\n",
    "for num in range(10):\n",
    "    #raw = np.zeros(shape=(50,1,509,6))\n",
    "    raw = np.zeros(shape=(50,509,6,1))\n",
    "    path = \"keyboard/\"+str(num)+\"/*.csv\"\n",
    "    files = glob.glob(path)\n",
    "    files.sort()\n",
    "    i = 0\n",
    "    for File in files:\n",
    "        raw_data = pd.read_csv(File,index_col=None, header=0)\n",
    "        #print(raw_data.shape)\n",
    "        raw_array = np.array(raw_data)  #use it as a array\n",
    "        raw[i,:,:,0] = raw_array\n",
    "        i+=1\n",
    "    print(raw.shape)\n",
    "    if (num == 0):\n",
    "        raw_0 = raw\n",
    "    elif(num == 1):\n",
    "        raw_1 = raw\n",
    "    elif(num == 2):\n",
    "        raw_2 = raw\n",
    "    elif(num == 3):\n",
    "        raw_3 = raw\n",
    "    elif(num == 4):\n",
    "        raw_4 = raw\n",
    "    elif(num == 5):\n",
    "        raw_5 = raw\n",
    "    elif(num == 6):\n",
    "        raw_6 = raw\n",
    "    elif(num == 7):\n",
    "        raw_7 = raw\n",
    "    elif(num == 8):\n",
    "        raw_8 = raw\n",
    "    elif(num == 9):\n",
    "        raw_9 = raw\n",
    "        "
   ]
  },
  {
   "cell_type": "code",
   "execution_count": 8,
   "metadata": {},
   "outputs": [
    {
     "name": "stdout",
     "output_type": "stream",
     "text": [
      "[[ 6.6586e+03]\n",
      " [ 3.0304e+00]\n",
      " [ 4.2504e+03]\n",
      " [-1.2719e-01]\n",
      " [ 1.3712e+04]\n",
      " [-8.3698e-01]]\n",
      "[[ 1.7819e+03]\n",
      " [-8.4967e-01]\n",
      " [ 9.4164e+02]\n",
      " [ 2.4121e+00]\n",
      " [ 4.2805e+03]\n",
      " [-4.9556e-02]]\n"
     ]
    }
   ],
   "source": [
    "print(raw_6[0][:][:][0])\n",
    "print(raw_5[0][:][:][0])\n",
    "#print(raw_4[0][:][:][0])\n",
    "#print(raw_3[0][:][:][0])\n",
    "#print(raw_2[0][:][:][0])\n",
    "#print(raw_1[0][:][:][0])"
   ]
  },
  {
   "cell_type": "markdown",
   "metadata": {},
   "source": [
    "# Split the data"
   ]
  },
  {
   "cell_type": "code",
   "execution_count": 9,
   "metadata": {},
   "outputs": [],
   "source": [
    "#train_9 = np.zeros(shape=(40,1,509,6))\n",
    "train_9 = np.zeros(shape=(40,509,6,1))\n",
    "test_9 = np.zeros(shape=(10,509,6,1))\n",
    "train_8 = np.zeros(shape=(40,509,6,1))\n",
    "test_8 = np.zeros(shape=(10,509,6,1))\n",
    "train_7 = np.zeros(shape=(40,509,6,1))\n",
    "test_7 = np.zeros(shape=(10,509,6,1))\n",
    "train_6 = np.zeros(shape=(40,509,6,1))\n",
    "test_6 = np.zeros(shape=(10,509,6,1))\n",
    "train_5 = np.zeros(shape=(40,509,6,1))\n",
    "test_5 = np.zeros(shape=(10,509,6,1))\n",
    "train_4 = np.zeros(shape=(40,509,6,1))\n",
    "test_4 = np.zeros(shape=(10,509,6,1))\n",
    "train_3 = np.zeros(shape=(40,509,6,1))\n",
    "test_3 = np.zeros(shape=(10,509,6,1))\n",
    "train_2 = np.zeros(shape=(40,509,6,1))\n",
    "test_2 = np.zeros(shape=(10,509,6,1))\n",
    "train_1 = np.zeros(shape=(40,509,6,1))\n",
    "test_1 = np.zeros(shape=(10,509,6,1))\n",
    "train_0 = np.zeros(shape=(40,509,6,1))\n",
    "test_0 = np.zeros(shape=(10,509,6,1))\n",
    "for i in range(40):\n",
    "    train_9[i] = raw_9[i]\n",
    "    train_8[i] = raw_8[i]\n",
    "    train_7[i] = raw_7[i]\n",
    "    train_6[i] = raw_6[i]\n",
    "    train_5[i] = raw_5[i]\n",
    "    train_4[i] = raw_4[i]\n",
    "    train_3[i] = raw_3[i]\n",
    "    train_2[i] = raw_2[i]\n",
    "    train_1[i] = raw_1[i]\n",
    "    train_0[i] = raw_0[i]\n",
    "for i in range(10):\n",
    "    #要去看資料排在後10筆的,對了\n",
    "    test_9[i] = raw_9[i+40]\n",
    "    test_8[i] = raw_8[i+40]\n",
    "    test_7[i] = raw_7[i+40]\n",
    "    test_6[i] = raw_6[i+40]\n",
    "    test_5[i] = raw_5[i+40]\n",
    "    test_4[i] = raw_4[i+40]\n",
    "    test_3[i] = raw_3[i+40]\n",
    "    test_2[i] = raw_2[i+40]\n",
    "    test_1[i] = raw_1[i+40]\n",
    "    test_0[i] = raw_0[i+40]\n",
    "#print(train_6[0][0][:][:])\n",
    "#print(train_5[0][0][:][:])\n",
    "#print(train_4[0][0][:][:])\n",
    "#print(test_6[0][0][:][:])\n",
    "#print(test_5[0][0][:][:])\n",
    "#print(test_4[0][0][:][:])"
   ]
  },
  {
   "cell_type": "markdown",
   "metadata": {},
   "source": [
    "# Concate the data"
   ]
  },
  {
   "cell_type": "code",
   "execution_count": 10,
   "metadata": {},
   "outputs": [],
   "source": [
    "#train = train_6 + train_5 + train_4\n",
    "#test = test_6 + test_5 + test_4\n",
    "#利用Ctrl+F檢查有無錯誤, 不對稱的地方\n",
    "num_class = 9\n",
    "train_count = 40\n",
    "test_count = 10\n",
    "train = np.zeros(shape=(train_count*num_class,509,6,1))\n",
    "test = np.zeros(shape=(test_count*num_class,509,6,1))\n",
    "for i in range(train_count*num_class):\n",
    "    if i < train_count:\n",
    "        train[i] = train_9[i]\n",
    "    elif (i >= train_count) and (i < 2*train_count):\n",
    "        train[i] = train_8[i-train_count]\n",
    "    elif (i >= 2*train_count) and (i < 3*train_count):\n",
    "        train[i] = train_7[i-2*train_count]\n",
    "    elif (i >= 3*train_count) and (i < 4*train_count):\n",
    "        train[i] = train_6[i-3*train_count]\n",
    "    elif (i >= 4*train_count) and (i < 5*train_count):\n",
    "        train[i] = train_5[i-4*train_count]\n",
    "    elif (i >= 5*train_count) and (i < 6*train_count):\n",
    "        train[i] = train_4[i-5*train_count]\n",
    "    elif (i >= 6*train_count) and (i < 7*train_count):\n",
    "        train[i] = train_3[i-6*train_count]\n",
    "    elif (i >= 7*train_count) and (i < 8*train_count):\n",
    "        train[i] = train_2[i-7*train_count]\n",
    "    elif (i >= 8*train_count) and (i < 9*train_count):\n",
    "        train[i] = train_1[i-8*train_count]\n",
    "    else:\n",
    "        train[i] = train_0[i-9*train_count]\n",
    "        #4的倒數第11\n",
    "for i in range(test_count*num_class):\n",
    "    if i < test_count:\n",
    "        test[i] = test_9[i]\n",
    "    elif (i >= test_count) and (i < 2*test_count):\n",
    "        test[i] = test_8[i-test_count]\n",
    "    elif (i >= 2*test_count) and (i < 3*test_count):\n",
    "        test[i] = test_7[i-2*test_count]\n",
    "    elif (i >= 3*test_count) and (i < 4*test_count):\n",
    "        test[i] = test_6[i-3*test_count]\n",
    "    elif (i >= 4*test_count) and (i < 5*test_count):\n",
    "        test[i] = test_5[i-4*test_count]\n",
    "    elif (i >= 5*test_count) and (i < 6*test_count):\n",
    "        test[i] = test_4[i-5*test_count]\n",
    "    elif (i >= 6*test_count) and (i < 7*test_count):\n",
    "        test[i] = test_3[i-6*test_count]\n",
    "    elif (i >= 7*test_count) and (i < 8*test_count):\n",
    "        test[i] = test_2[i-7*test_count]\n",
    "    elif (i >= 8*test_count) and (i < 9*test_count):\n",
    "        test[i] = test_1[i-8*test_count]\n",
    "    else:\n",
    "        test[i] = test_0[i-9*test_count]\n",
    "        #4的倒數第1\n",
    "#print(train[train_count*num_class-1][0][:][:])\n",
    "#print(test[test_count*num_class-1][0][:][:])"
   ]
  },
  {
   "cell_type": "markdown",
   "metadata": {},
   "source": [
    "# Make labels: one-hot format"
   ]
  },
  {
   "cell_type": "code",
   "execution_count": 11,
   "metadata": {},
   "outputs": [],
   "source": [
    "'''One hot encoding'''\n",
    "#label = to_categorical(test, num_classes=3)\n",
    "#[1 0 0],[0 1 0],[0 0 1]\n",
    "#train_label = np.zeros(shape=(120,3))\n",
    "train_label = []\n",
    "for i in range(train_count*num_class):\n",
    "    a = np.zeros(num_class)\n",
    "    if i < train_count:\n",
    "        #train_label.append([1,0,0,0,0,0,0,0,0,0])\n",
    "        a[0] = 1\n",
    "        train_label.append(a)\n",
    "    elif (i >= train_count) and (i < 2*train_count):\n",
    "        a[1] = 1\n",
    "        #train_label.append([0,1,0,0,0,0,0,0,0,0])\n",
    "        train_label.append(a)\n",
    "    elif (i >= 2*train_count) and (i < 3*train_count):\n",
    "        a[2] = 1\n",
    "        #train_label.append([0,0,1,0,0,0,0,0,0,0])\n",
    "        train_label.append(a)\n",
    "    elif (i >= 3*train_count) and (i < 4*train_count):\n",
    "        a[3] = 1\n",
    "        #train_label.append([0,0,0,1,0,0,0,0,0,0])\n",
    "        train_label.append(a)\n",
    "    elif (i >= 4*train_count) and (i < 5*train_count):\n",
    "        a[4] = 1\n",
    "        #train_label.append([0,0,0,0,1,0,0,0,0,0])\n",
    "        train_label.append(a)\n",
    "    elif (i >= 5*train_count) and (i < 6*train_count):\n",
    "        a[5] = 1\n",
    "        #train_label.append([0,0,0,0,0,1,0,0,0,0])\n",
    "        train_label.append(a)\n",
    "    elif (i >= 6*train_count) and (i < 7*train_count):\n",
    "        a[6] = 1\n",
    "        #train_label.append([0,0,0,0,0,0,1,0,0,0])\n",
    "        train_label.append(a)\n",
    "    elif (i >= 7*train_count) and (i < 8*train_count):\n",
    "        a[7] = 1\n",
    "        #train_label.append([0,0,0,0,0,0,0,1,0,0])\n",
    "        train_label.append(a)\n",
    "    elif (i >= 8*train_count) and (i < 9*train_count):\n",
    "        a[8] = 1\n",
    "        #train_label.append([0,0,0,0,0,0,0,0,1,0])\n",
    "        train_label.append(a)\n",
    "    else:\n",
    "        a[9] = 1\n",
    "        train_label.append([0,0,0,0,0,0,0,0,0,1])\n",
    "train_label = np.asarray(train_label)\n",
    "#print(train_label[0][:])\n",
    "#print(train_label[39][:])\n",
    "#print(train_label[40][:])\n",
    "#print(train_label[79][:])\n",
    "#print(train_label[80][:])\n",
    "test_label = []\n",
    "for i in range(test_count*num_class):\n",
    "    b = np.zeros(num_class)\n",
    "    if i < test_count:\n",
    "        b[0] = 1\n",
    "        #test_label.append([1,0,0,0,0,0,0,0,0,0])\n",
    "        test_label.append(b)\n",
    "    elif (i >= test_count) and (i < 2*test_count):\n",
    "        b[1] = 1\n",
    "        #test_label.append([0,1,0,0,0,0,0,0,0,0])\n",
    "        test_label.append(b)\n",
    "    elif (i >= 2*test_count) and (i < 3*test_count):\n",
    "        b[2] = 1\n",
    "        #test_label.append([0,0,1,0,0,0,0,0,0,0])\n",
    "        test_label.append(b)\n",
    "    elif (i >= 3*test_count) and (i < 4*test_count):\n",
    "        b[3] = 1\n",
    "        #test_label.append([0,0,0,1,0,0,0,0,0,0])\n",
    "        test_label.append(b)\n",
    "    elif (i >= 4*test_count) and (i < 5*test_count):\n",
    "        b[4] = 1\n",
    "        #test_label.append([0,0,0,0,1,0,0,0,0,0])\n",
    "        test_label.append(b)\n",
    "    elif (i >= 5*test_count) and (i < 6*test_count):\n",
    "        b[5] = 1\n",
    "        #test_label.append([0,0,0,0,0,1,0,0,0,0])\n",
    "        test_label.append(b)\n",
    "    elif (i >= 6*test_count) and (i < 7*test_count):\n",
    "        b[6] = 1\n",
    "        #test_label.append([0,0,0,0,0,0,1,0,0,0])\n",
    "        test_label.append(b)\n",
    "    elif (i >= 7*test_count) and (i < 8*test_count):\n",
    "        b[7] = 1\n",
    "        #test_label.append([0,0,0,0,0,0,0,1,0,0])\n",
    "        test_label.append(b)\n",
    "    elif (i >= 8*test_count) and (i < 9*test_count):\n",
    "        b[8] = 1\n",
    "        #test_label.append([0,0,0,0,0,0,0,0,1,0])\n",
    "        test_label.append(b)\n",
    "    else:\n",
    "        b[9] = 1\n",
    "        test_label.append(b)\n",
    "test_label = np.asarray(test_label)\n",
    "#print(test_label[0][:])\n",
    "#print(test_label[9][:])\n",
    "#print(test_label[10][:])\n",
    "#print(test_label[19][:])\n",
    "#print(test_label[20][:])"
   ]
  },
  {
   "cell_type": "markdown",
   "metadata": {},
   "source": [
    "# Create model"
   ]
  },
  {
   "cell_type": "code",
   "execution_count": 12,
   "metadata": {},
   "outputs": [],
   "source": [
    "#domain knowledge, strides = 2  ,data_format='channels_last'\n",
    "def get_model():\n",
    "    model = Sequential()\n",
    "    model.add(Conv2D(8, (2,1), activation='relu', name='conv1',\n",
    "                     input_shape=input_shape))\n",
    "    model.add(MaxPooling2D(pool_size=(1, 3)))\n",
    "    model.add(BatchNormalization())\n",
    "    \n",
    "    \n",
    "    #model.add(Conv2D(16, (2,1), activation='relu',name='conv2',))\n",
    "    #model.add(MaxPooling2D(pool_size=(1, 3)))\n",
    "    #model.add(BatchNormalization())\n",
    "    #model.add(Dropout(0.5))\n",
    "    \n",
    "    #model.add(Conv2D(32, (2,1), activation='relu',name='conv3',))\n",
    "    #model.add(MaxPooling2D(pool_size=(1, 3)))\n",
    "    #model.add(BatchNormalization())\n",
    "    \n",
    "    model.add(Flatten())\n",
    "    model.add(Dense(16, activation='relu', name='dense2'))\n",
    "    model.add(BatchNormalization())\n",
    "    model.add(Dropout(0.5))\n",
    "    model.add(Dense(num_class, activation='softmax', name='preds'))\n",
    "\n",
    "    return model"
   ]
  },
  {
   "cell_type": "code",
   "execution_count": 13,
   "metadata": {},
   "outputs": [
    {
     "name": "stdout",
     "output_type": "stream",
     "text": [
      "_________________________________________________________________\n",
      "Layer (type)                 Output Shape              Param #   \n",
      "=================================================================\n",
      "conv1 (Conv2D)               (None, 508, 6, 8)         24        \n",
      "_________________________________________________________________\n",
      "max_pooling2d_1 (MaxPooling2 (None, 508, 2, 8)         0         \n",
      "_________________________________________________________________\n",
      "batch_normalization_1 (Batch (None, 508, 2, 8)         32        \n",
      "_________________________________________________________________\n",
      "flatten_1 (Flatten)          (None, 8128)              0         \n",
      "_________________________________________________________________\n",
      "dense2 (Dense)               (None, 16)                130064    \n",
      "_________________________________________________________________\n",
      "batch_normalization_2 (Batch (None, 16)                64        \n",
      "_________________________________________________________________\n",
      "dropout_1 (Dropout)          (None, 16)                0         \n",
      "_________________________________________________________________\n",
      "preds (Dense)                (None, 9)                 153       \n",
      "=================================================================\n",
      "Total params: 130,337\n",
      "Trainable params: 130,289\n",
      "Non-trainable params: 48\n",
      "_________________________________________________________________\n"
     ]
    }
   ],
   "source": [
    "#input_shape = (1,509,6)\n",
    "input_shape = (509,6,1)\n",
    "model = get_model()\n",
    "model.summary()"
   ]
  },
  {
   "cell_type": "code",
   "execution_count": 14,
   "metadata": {},
   "outputs": [],
   "source": [
    "from keras.callbacks import ModelCheckpoint\n",
    "checkpoint = ModelCheckpoint(  \n",
    "    'test_SS.h5',  \n",
    "    monitor = 'val_loss',  \n",
    "    verbose = 1,  \n",
    "    save_best_only = True,  \n",
    "    mode = 'min',  \n",
    ")  "
   ]
  },
  {
   "cell_type": "code",
   "execution_count": 15,
   "metadata": {},
   "outputs": [],
   "source": [
    "model.compile(loss=keras.losses.categorical_crossentropy,\n",
    "              optimizer=keras.optimizers.rmsprop(lr=0.001, rho=0.9, epsilon=1e-08, decay=0.0),\n",
    "              metrics=['accuracy']) \n",
    "#keras.optimizers.rmsprop(lr=0.001, rho=0.9, epsilon=1e-08, decay=0.00002)"
   ]
  },
  {
   "cell_type": "code",
   "execution_count": 16,
   "metadata": {},
   "outputs": [
    {
     "name": "stdout",
     "output_type": "stream",
     "text": [
      "Train on 356 samples, validate on 4 samples\n",
      "Epoch 1/30\n",
      "260/356 [====================>.........] - ETA: 2s - loss: 1.8072 - acc: 0.3192"
     ]
    },
    {
     "name": "stderr",
     "output_type": "stream",
     "text": [
      "/usr/local/lib/python3.5/dist-packages/keras/callbacks.py:120: UserWarning: Method on_batch_end() is slow compared to the batch update (0.279160). Check your callbacks.\n",
      "  % delta_t_median)\n"
     ]
    },
    {
     "name": "stdout",
     "output_type": "stream",
     "text": [
      "356/356 [==============================] - 7s 19ms/step - loss: 1.7697 - acc: 0.3539 - val_loss: 2.5576 - val_acc: 0.0000e+00\n",
      "\n",
      "Epoch 00001: val_loss improved from inf to 2.55756, saving model to test_SS.h5\n",
      "Epoch 2/30\n",
      "356/356 [==============================] - 0s 945us/step - loss: 1.3072 - acc: 0.5421 - val_loss: 1.3138 - val_acc: 0.0000e+00\n",
      "\n",
      "Epoch 00002: val_loss improved from 2.55756 to 1.31377, saving model to test_SS.h5\n",
      "Epoch 3/30\n",
      "356/356 [==============================] - 0s 1ms/step - loss: 1.0207 - acc: 0.6966 - val_loss: 0.8178 - val_acc: 1.0000\n",
      "\n",
      "Epoch 00003: val_loss improved from 1.31377 to 0.81784, saving model to test_SS.h5\n",
      "Epoch 4/30\n",
      "356/356 [==============================] - 0s 471us/step - loss: 0.9711 - acc: 0.6966 - val_loss: 0.6956 - val_acc: 0.7500\n",
      "\n",
      "Epoch 00004: val_loss improved from 0.81784 to 0.69557, saving model to test_SS.h5\n",
      "Epoch 5/30\n",
      "356/356 [==============================] - 0s 844us/step - loss: 0.8667 - acc: 0.7388 - val_loss: 1.1049 - val_acc: 0.5000\n",
      "\n",
      "Epoch 00005: val_loss did not improve\n",
      "Epoch 6/30\n",
      "356/356 [==============================] - 0s 706us/step - loss: 0.8383 - acc: 0.7781 - val_loss: 1.8757 - val_acc: 0.0000e+00\n",
      "\n",
      "Epoch 00006: val_loss did not improve\n",
      "Epoch 7/30\n",
      "356/356 [==============================] - 0s 703us/step - loss: 0.7711 - acc: 0.8006 - val_loss: 0.4355 - val_acc: 1.0000\n",
      "\n",
      "Epoch 00007: val_loss improved from 0.69557 to 0.43550, saving model to test_SS.h5\n",
      "Epoch 8/30\n",
      "356/356 [==============================] - 0s 748us/step - loss: 0.6621 - acc: 0.8230 - val_loss: 0.7643 - val_acc: 1.0000\n",
      "\n",
      "Epoch 00008: val_loss did not improve\n",
      "Epoch 9/30\n",
      "356/356 [==============================] - 0s 505us/step - loss: 0.7340 - acc: 0.8202 - val_loss: 1.1321 - val_acc: 0.5000\n",
      "\n",
      "Epoch 00009: val_loss did not improve\n",
      "Epoch 10/30\n",
      "356/356 [==============================] - 0s 504us/step - loss: 0.6123 - acc: 0.8567 - val_loss: 0.8883 - val_acc: 1.0000\n",
      "\n",
      "Epoch 00010: val_loss did not improve\n",
      "Epoch 11/30\n",
      "356/356 [==============================] - 0s 505us/step - loss: 0.6232 - acc: 0.8146 - val_loss: 1.0156 - val_acc: 0.5000\n",
      "\n",
      "Epoch 00011: val_loss did not improve\n",
      "Epoch 12/30\n",
      "356/356 [==============================] - 0s 494us/step - loss: 0.5712 - acc: 0.8511 - val_loss: 0.2651 - val_acc: 1.0000\n",
      "\n",
      "Epoch 00012: val_loss improved from 0.43550 to 0.26506, saving model to test_SS.h5\n",
      "Epoch 13/30\n",
      "356/356 [==============================] - 0s 413us/step - loss: 0.4661 - acc: 0.8876 - val_loss: 0.1865 - val_acc: 1.0000\n",
      "\n",
      "Epoch 00013: val_loss improved from 0.26506 to 0.18647, saving model to test_SS.h5\n",
      "Epoch 14/30\n",
      "356/356 [==============================] - 0s 815us/step - loss: 0.4559 - acc: 0.8876 - val_loss: 1.3167 - val_acc: 0.5000\n",
      "\n",
      "Epoch 00014: val_loss did not improve\n",
      "Epoch 15/30\n",
      "356/356 [==============================] - 0s 346us/step - loss: 0.4598 - acc: 0.8792 - val_loss: 0.6568 - val_acc: 0.5000\n",
      "\n",
      "Epoch 00015: val_loss did not improve\n",
      "Epoch 16/30\n",
      "356/356 [==============================] - 0s 337us/step - loss: 0.4167 - acc: 0.8904 - val_loss: 0.1877 - val_acc: 1.0000\n",
      "\n",
      "Epoch 00016: val_loss did not improve\n",
      "Epoch 17/30\n",
      "356/356 [==============================] - 0s 330us/step - loss: 0.4035 - acc: 0.8876 - val_loss: 0.3646 - val_acc: 1.0000\n",
      "\n",
      "Epoch 00017: val_loss did not improve\n",
      "Epoch 18/30\n",
      "356/356 [==============================] - 0s 332us/step - loss: 0.3424 - acc: 0.9213 - val_loss: 0.8900 - val_acc: 0.5000\n",
      "\n",
      "Epoch 00018: val_loss did not improve\n",
      "Epoch 19/30\n",
      "356/356 [==============================] - 0s 325us/step - loss: 0.4255 - acc: 0.8736 - val_loss: 0.6272 - val_acc: 0.7500\n",
      "\n",
      "Epoch 00019: val_loss did not improve\n",
      "Epoch 20/30\n",
      "356/356 [==============================] - 0s 325us/step - loss: 0.3663 - acc: 0.9101 - val_loss: 0.5825 - val_acc: 0.7500\n",
      "\n",
      "Epoch 00020: val_loss did not improve\n",
      "Epoch 21/30\n",
      "356/356 [==============================] - 0s 327us/step - loss: 0.3232 - acc: 0.9157 - val_loss: 0.5835 - val_acc: 0.7500\n",
      "\n",
      "Epoch 00021: val_loss did not improve\n",
      "Epoch 22/30\n",
      "356/356 [==============================] - 0s 329us/step - loss: 0.3317 - acc: 0.9213 - val_loss: 0.6081 - val_acc: 0.5000\n",
      "\n",
      "Epoch 00022: val_loss did not improve\n",
      "Epoch 23/30\n",
      "356/356 [==============================] - 0s 329us/step - loss: 0.3135 - acc: 0.9073 - val_loss: 0.1049 - val_acc: 1.0000\n",
      "\n",
      "Epoch 00023: val_loss improved from 0.18647 to 0.10485, saving model to test_SS.h5\n",
      "Epoch 24/30\n",
      "356/356 [==============================] - 0s 366us/step - loss: 0.3243 - acc: 0.9129 - val_loss: 0.2875 - val_acc: 1.0000\n",
      "\n",
      "Epoch 00024: val_loss did not improve\n",
      "Epoch 25/30\n",
      "356/356 [==============================] - 0s 364us/step - loss: 0.2999 - acc: 0.9045 - val_loss: 0.4922 - val_acc: 0.7500\n",
      "\n",
      "Epoch 00025: val_loss did not improve\n",
      "Epoch 26/30\n",
      "356/356 [==============================] - 0s 363us/step - loss: 0.3144 - acc: 0.9045 - val_loss: 0.1044 - val_acc: 1.0000\n",
      "\n",
      "Epoch 00026: val_loss improved from 0.10485 to 0.10437, saving model to test_SS.h5\n",
      "Epoch 27/30\n",
      "356/356 [==============================] - 0s 329us/step - loss: 0.3024 - acc: 0.9185 - val_loss: 0.3621 - val_acc: 0.7500\n",
      "\n",
      "Epoch 00027: val_loss did not improve\n",
      "Epoch 28/30\n",
      "356/356 [==============================] - 0s 327us/step - loss: 0.2808 - acc: 0.9213 - val_loss: 0.2386 - val_acc: 1.0000\n",
      "\n",
      "Epoch 00028: val_loss did not improve\n",
      "Epoch 29/30\n",
      "356/356 [==============================] - 0s 326us/step - loss: 0.2990 - acc: 0.9017 - val_loss: 0.4645 - val_acc: 0.7500\n",
      "\n",
      "Epoch 00029: val_loss did not improve\n",
      "Epoch 30/30\n",
      "356/356 [==============================] - 0s 412us/step - loss: 0.2911 - acc: 0.9213 - val_loss: 0.1711 - val_acc: 1.0000\n",
      "\n",
      "Epoch 00030: val_loss did not improve\n"
     ]
    }
   ],
   "source": [
    "history = model.fit(train, train_label, epochs=30, batch_size=10, \n",
    "                    shuffle=True,\n",
    "                    validation_split=0.01,\n",
    "                    verbose = 1,\n",
    "                    callbacks=[    \n",
    "                    checkpoint,\n",
    "                   ]\n",
    ") \n",
    "#validation_split=0.2,"
   ]
  },
  {
   "cell_type": "code",
   "execution_count": 17,
   "metadata": {},
   "outputs": [
    {
     "data": {
      "image/png": "[encoded data removed]",
      "text/plain": [
       "<Figure size 432x288 with 1 Axes>"
      ]
     },
     "metadata": {},
     "output_type": "display_data"
    }
   ],
   "source": [
    "#overfit\n",
    "plt.plot(history.history['loss'])\n",
    "plt.plot(history.history['val_loss'])\n",
    "plt.title('model loss')\n",
    "plt.ylabel('loss')\n",
    "plt.xlabel('epoch')\n",
    "plt.legend(['loss', 'val_loss'], loc='upper right')\n",
    "plt.show()"
   ]
  },
  {
   "cell_type": "code",
   "execution_count": 18,
   "metadata": {},
   "outputs": [
    {
     "data": {
      "image/png": "[encoded data removed]",
      "text/plain": [
       "<Figure size 432x288 with 1 Axes>"
      ]
     },
     "metadata": {},
     "output_type": "display_data"
    }
   ],
   "source": [
    "plt.plot(history.history['acc'])\n",
    "plt.plot(history.history['val_acc'])\n",
    "plt.title('model acc')\n",
    "plt.ylabel('acc')\n",
    "plt.xlabel('epoch')\n",
    "plt.legend(['acc', 'val_acc'], loc='upper right')\n",
    "plt.show()"
   ]
  },
  {
   "cell_type": "code",
   "execution_count": 59,
   "metadata": {},
   "outputs": [],
   "source": [
    "#from keras.models import load_model\n",
    "#model = load_model('test_good_curve_10.h5')"
   ]
  },
  {
   "cell_type": "code",
   "execution_count": 407,
   "metadata": {},
   "outputs": [],
   "source": [
    "#利用此區檢查有無拼錯\n",
    "#predict = model.predict(test)"
   ]
  },
  {
   "cell_type": "code",
   "execution_count": 19,
   "metadata": {},
   "outputs": [
    {
     "name": "stdout",
     "output_type": "stream",
     "text": [
      "90/90 [==============================] - 0s 373us/step\n",
      "Test loss: 0.22921432322925991\n",
      "Test accuracy: 0.9444444364971585\n"
     ]
    }
   ],
   "source": [
    "scores = model.evaluate(test, test_label, verbose=1)\n",
    "#scores = model.evaluate(train, train_label, verbose=1)\n",
    "print('Test loss:', scores[0])\n",
    "print('Test accuracy:', scores[1])"
   ]
  },
  {
   "cell_type": "code",
   "execution_count": 409,
   "metadata": {},
   "outputs": [
    {
     "name": "stdout",
     "output_type": "stream",
     "text": [
      "[[  7.53807370e-04   9.92265403e-01   9.97241586e-04   3.59688915e-04\n",
      "    9.02718108e-04   3.07483715e-04   4.64696990e-04   1.82664255e-03\n",
      "    2.12229835e-03]\n",
      " [  5.33831073e-04   9.98442352e-01   9.26848952e-05   8.30240606e-05\n",
      "    2.08337660e-04   2.71319714e-05   1.41919969e-04   1.20603952e-04\n",
      "    3.50191840e-04]\n",
      " [  5.07104695e-02   8.85630608e-01   1.15347877e-02   6.17670687e-03\n",
      "    1.63069030e-03   4.57678270e-03   2.99040601e-03   1.36255445e-02\n",
      "    2.31239833e-02]\n",
      " [  5.32707258e-04   9.98048306e-01   1.32752582e-04   2.49452947e-04\n",
      "    3.05892434e-04   2.22769831e-05   2.07770601e-04   1.20786179e-04\n",
      "    3.80188052e-04]\n",
      " [  4.31085285e-03   9.94117856e-01   1.51741333e-04   3.14267127e-05\n",
      "    5.14710613e-04   2.60713314e-05   2.30489939e-04   7.77893511e-05\n",
      "    5.38990658e-04]\n",
      " [  2.15664823e-02   2.26014666e-02   5.56200743e-01   8.57129619e-02\n",
      "    5.08617843e-03   1.62873697e-02   4.93210815e-02   2.19067648e-01\n",
      "    2.41560768e-02]\n",
      " [  1.18421169e-03   9.95389104e-01   5.62690664e-04   2.71085912e-04\n",
      "    6.39092934e-04   3.89888970e-04   5.50989527e-04   4.74538479e-04\n",
      "    5.38329827e-04]\n",
      " [  7.03582307e-04   9.98873651e-01   2.12305840e-05   1.97796471e-05\n",
      "    2.26147080e-04   7.24691336e-06   3.00862157e-05   6.85758323e-06\n",
      "    1.11418049e-04]\n",
      " [  7.19607575e-04   9.96987641e-01   3.07837094e-04   8.11489372e-05\n",
      "    5.20136615e-04   1.10133777e-04   2.62166199e-04   3.29148519e-04\n",
      "    6.82221667e-04]]\n"
     ]
    }
   ],
   "source": [
    "#print(predict[0:9]) \n",
    "#print(predict[10:19])\n",
    "#print(predict[20:29])\n",
    "#print(predict[30:39])\n",
    "#print(predict[40:49])\n",
    "#print(predict[50:59])"
   ]
  },
  {
   "cell_type": "code",
   "execution_count": null,
   "metadata": {},
   "outputs": [],
   "source": []
  }
 ],
 "metadata": {
  "kernelspec": {
   "display_name": "Python 3",
   "language": "python",
   "name": "python3"
  },
  "language_info": {
   "codemirror_mode": {
    "name": "ipython",
    "version": 3
   },
   "file_extension": ".py",
   "mimetype": "text/x-python",
   "name": "python",
   "nbconvert_exporter": "python",
   "pygments_lexer": "ipython3",
   "version": "3.5.2"
  }
 },
 "nbformat": 4,
 "nbformat_minor": 2
}
